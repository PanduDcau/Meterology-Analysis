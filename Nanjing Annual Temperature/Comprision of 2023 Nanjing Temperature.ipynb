{
 "cells": [
  {
   "cell_type": "markdown",
   "source": [
    "## Comparative analysis of Nanjing Climate in 1969, 1996, 2023"
   ],
   "metadata": {
    "collapsed": false
   }
  },
  {
   "cell_type": "code",
   "execution_count": 4,
   "outputs": [],
   "source": [
    "import xarray as xr\n",
    "import numpy as np\n",
    "import pandas as pd\n",
    "import matplotlib\n",
    "matplotlib.use('TkAgg')  # Set before importing pyplot for GUI-based display\n",
    "import matplotlib.pyplot as plt\n",
    "from sklearn.preprocessing import MinMaxScaler\n",
    "import torch\n",
    "import torch.nn as nn\n",
    "from torch.utils.data import DataLoader, TensorDataset\n",
    "\n",
    "# Read all NetCDF files (2021)\n",
    "file_path = '2021_nanjing.nc'\n",
    "ds = xr.open_dataset(file_path)"
   ],
   "metadata": {
    "collapsed": false,
    "ExecuteTime": {
     "end_time": "2025-04-23T02:51:53.984685600Z",
     "start_time": "2025-04-23T02:51:53.567238600Z"
    }
   }
  },
  {
   "cell_type": "code",
   "execution_count": 5,
   "outputs": [
    {
     "name": "stdout",
     "output_type": "stream",
     "text": [
      "Monthly Mean Temperatures (°C):\n",
      "Month 01: 4.18°C\n",
      "Month 02: 9.71°C\n",
      "Month 03: 11.72°C\n",
      "Month 04: 16.04°C\n",
      "Month 05: 22.10°C\n",
      "Month 06: 26.41°C\n",
      "Month 07: 28.05°C\n",
      "Month 08: 27.36°C\n",
      "Month 09: 25.81°C\n",
      "Month 10: 18.35°C\n",
      "Month 11: 11.94°C\n",
      "Month 12: 6.16°C\n",
      "\n",
      "Annual Mean Temperature (°C): 17.35\n"
     ]
    }
   ],
   "source": [
    "# Assign the proper time coordinate\n",
    "ds = ds.rename({'valid_time': 'time'})\n",
    "\n",
    "# Extract the temperature variable and convert from Kelvin to Celsius\n",
    "temp_c = ds['t2m'] - 273.15\n",
    "\n",
    "# Group by month and calculate the mean\n",
    "monthly_mean = temp_c.groupby('time.month').mean(dim=['time', 'latitude', 'longitude'])\n",
    "\n",
    "# Annual mean across all time, latitude, longitude\n",
    "annual_mean = temp_c.mean(dim=['time', 'latitude', 'longitude'])\n",
    "\n",
    "# Output results\n",
    "print(\"Monthly Mean Temperatures (°C):\")\n",
    "for month, value in enumerate(monthly_mean.values, start=1):\n",
    "    print(f\"Month {month:02d}: {value:.2f}°C\")\n",
    "\n",
    "print(f\"\\nAnnual Mean Temperature (°C): {annual_mean.values:.2f}\")"
   ],
   "metadata": {
    "collapsed": false,
    "ExecuteTime": {
     "end_time": "2025-04-23T02:51:54.843382Z",
     "start_time": "2025-04-23T02:51:54.621543900Z"
    }
   }
  },
  {
   "cell_type": "markdown",
   "source": [
    "## Annual Temperature of Nanjing"
   ],
   "metadata": {
    "collapsed": false
   }
  },
  {
   "cell_type": "code",
   "execution_count": 6,
   "outputs": [],
   "source": [
    "import xarray as xr\n",
    "import numpy as np\n",
    "import matplotlib.pyplot as plt\n",
    "\n",
    "# Load the NetCDF file\n",
    "file_path = '2021_nanjing.nc' # Change path if needed\n",
    "ds = xr.open_dataset(file_path)\n",
    "\n",
    "# Select subset for region around Nanjing: 33°N to 32°N, 117°E to 119°E\n",
    "subset = ds['t2m'].sel(latitude=slice(33.0, 32.0), longitude=slice(117.0, 119.0))\n",
    "\n",
    "# Calculate mean temperature over time\n",
    "mean_temp = subset.mean(dim='valid_time')\n",
    "\n",
    "# Create meshgrid for plotting\n",
    "lon, lat = np.meshgrid(mean_temp.longitude.values, mean_temp.latitude.values)\n",
    "temp_values = mean_temp.values # in Kelvin"
   ],
   "metadata": {
    "collapsed": false,
    "ExecuteTime": {
     "end_time": "2025-04-23T03:11:06.982657700Z",
     "start_time": "2025-04-23T03:11:06.931371800Z"
    }
   }
  },
  {
   "cell_type": "code",
   "execution_count": 7,
   "outputs": [],
   "source": [
    "# Plot 2D contour map\n",
    "plt.figure(figsize=(10, 6))\n",
    "contour = plt.contourf(lon, lat, temp_values, cmap='coolwarm')\n",
    "plt.title('Mean Temperature (K) - Nanjing Region (2021)', fontsize=14)\n",
    "plt.xlabel('Longitude')\n",
    "plt.ylabel('Latitude')\n",
    "cbar = plt.colorbar(contour)\n",
    "cbar.set_label('Temperature (K)')\n",
    "plt.grid(True)\n",
    "plt.show()"
   ],
   "metadata": {
    "collapsed": false,
    "ExecuteTime": {
     "end_time": "2025-04-23T03:18:02.069102400Z",
     "start_time": "2025-04-23T03:11:07.670459500Z"
    }
   }
  },
  {
   "cell_type": "markdown",
   "source": [
    "# Mean Temperature Analysis of Nanjing Region (2021)\n",
    "\n",
    "## Discussion and Analysis:\n",
    "\n",
    "### 1. Temperature Variation Across Latitudes and Longitudes:\n",
    "- The temperature in the Nanjing region shows clear gradients across both latitude and longitude.\n",
    "- The map demonstrates that temperature increases as the longitude moves from west (left side of the map) to east (right side). A noticeable trend is that the temperature at higher latitudes (towards the top of the map) tends to be cooler, with blues indicating lower temperatures.\n",
    "- The transition from cooler (blue) to warmer (red) temperatures appears to follow the latitudinal and longitudinal shifts, where the lower latitudes and more easterly longitudes experience higher temperatures.\n",
    "\n",
    "### 2. Hotspots and Coldspots:\n",
    "- **Coldspots**: The cooler areas (depicted in blue) are concentrated towards the southwestern portion (near latitude 32.0, longitude 117.0), with temperatures dipping close to 289.75K.\n",
    "- **Hotspots**: The warmer regions (in red) are found near the northeastern corner (latitude 32.5, longitude 118.75), showing temperatures reaching 290.65K.\n",
    "\n",
    "### 3. Implications of Temperature Distribution:\n",
    "- The temperature variation can provide insights into the climatic conditions across the region. Higher temperatures in the northeastern part of the map could be attributed to urban heat islands, geographical elevation, or human activities in the area that lead to a slight rise in temperature.\n",
    "- Conversely, cooler temperatures in the southwestern regions may reflect geographical factors like proximity to water bodies, elevation, or less dense urbanization.\n",
    "\n",
    "## Conclusion:\n",
    "- The heatmap effectively captures the spatial variations in temperature across the Nanjing region, providing valuable insights into the regional climate for 2021.\n",
    "- Understanding temperature distribution is crucial for urban planning, agricultural predictions, and energy demand forecasting, particularly in areas where climate extremes may impact daily life.\n",
    "- Future studies could explore seasonal variations and longer-term trends to better assess the region’s climate patterns and predict future shifts due to global warming or local environmental changes.\n",
    "\n",
    "This analysis gives a clear picture of how temperature varies spatially within the Nanjing region and offers actionable insights for various sectors."
   ],
   "metadata": {
    "collapsed": false
   }
  },
  {
   "cell_type": "code",
   "execution_count": 8,
   "outputs": [],
   "source": [
    "import xarray as xr\n",
    "import matplotlib.pyplot as plt\n",
    "import numpy as np\n",
    "import pandas as pd\n",
    "import calendar\n",
    "\n",
    "# Load dataset\n",
    "ds = xr.open_dataset('2021_nanjing.nc')"
   ],
   "metadata": {
    "collapsed": false,
    "ExecuteTime": {
     "end_time": "2025-04-23T03:27:31.037893600Z",
     "start_time": "2025-04-23T03:27:31.003109400Z"
    }
   }
  },
  {
   "cell_type": "code",
   "execution_count": 9,
   "outputs": [],
   "source": [
    "# Extract temperature variable (Kelvin)\n",
    "temp_k = ds['t2m']\n",
    "\n",
    "# Select closest point to Nanjing (32N, 118E)\n",
    "temp_nanjing = temp_k.sel(latitude=32, longitude=118.0, method=\"nearest\")\n",
    "\n",
    "# Convert to Celsius\n",
    "temp_c = temp_nanjing - 273.15\n",
    "\n",
    "# Resample to monthly average (using 'ME' instead of deprecated 'M')\n",
    "temp_monthly = temp_c.resample(valid_time='ME').mean()\n",
    "\n",
    "# Convert to pandas Series for easier handling\n",
    "temp_series = temp_monthly.to_series()\n",
    "\n",
    "# Calculate annual mean temperature\n",
    "annual_mean = temp_c.mean().values\n",
    "\n",
    "# Create figure with two subplots\n",
    "fig, (ax1, ax2) = plt.subplots(2, 1, figsize=(12, 8), gridspec_kw={'height_ratios': [3, 1]})\n",
    "\n",
    "# Monthly temperature plot (top panel)\n",
    "month_names = [calendar.month_abbr[m] for m in temp_series.index.month]\n",
    "bars = ax1.bar(month_names, temp_series.values, color='skyblue', edgecolor='navy')\n",
    "\n",
    "# Add data labels\n",
    "for bar in bars:\n",
    "    height = bar.get_height()\n",
    "    ax1.text(bar.get_x() + bar.get_width()/2., height,\n",
    "             f'{height:.1f}°C',\n",
    "             ha='center', va='bottom')\n",
    "\n",
    "ax1.set_title('Monthly Average Temperature in Nanjing (2021)', fontsize=14)\n",
    "ax1.set_ylabel('Temperature (°C)')\n",
    "ax1.grid(axis='y', linestyle='--', alpha=0.7)\n",
    "\n",
    "# Annual mean temperature visualization (bottom panel)\n",
    "ax2.barh(['Annual Mean'], [annual_mean], color='salmon', edgecolor='darkred')\n",
    "ax2.text(annual_mean, 0, f' {annual_mean:.2f}°C',\n",
    "         va='center', ha='left', fontsize=12, color='darkred')\n",
    "ax2.set_xlim([temp_series.min()-2, temp_series.max()+2])  # Match x-axis with top plot\n",
    "ax2.set_xticks([])\n",
    "ax2.spines['top'].set_visible(False)\n",
    "ax2.spines['right'].set_visible(False)\n",
    "ax2.spines['bottom'].set_visible(False)\n",
    "\n",
    "# Add horizontal line showing annual mean to top plot\n",
    "ax1.axhline(y=annual_mean, color='red', linestyle='--',\n",
    "             label=f'Annual Mean: {annual_mean:.2f}°C')\n",
    "ax1.legend(loc='upper right')\n",
    "\n",
    "# Show plot\n",
    "plt.tight_layout()\n",
    "plt.show()\n"
   ],
   "metadata": {
    "collapsed": false,
    "ExecuteTime": {
     "end_time": "2025-04-23T03:33:48.710815500Z",
     "start_time": "2025-04-23T03:27:32.033951500Z"
    }
   }
  },
  {
   "cell_type": "code",
   "execution_count": 1,
   "outputs": [
    {
     "data": {
      "text/plain": "([<matplotlib.axis.XTick at 0x1f9a53816d0>,\n  <matplotlib.axis.XTick at 0x1f9a3f5eb10>,\n  <matplotlib.axis.XTick at 0x1f9a55c4690>,\n  <matplotlib.axis.XTick at 0x1f9a55c5d90>,\n  <matplotlib.axis.XTick at 0x1f9a55cd190>,\n  <matplotlib.axis.XTick at 0x1f9a55cfa10>,\n  <matplotlib.axis.XTick at 0x1f9a55d6210>,\n  <matplotlib.axis.XTick at 0x1f9a55d8b10>,\n  <matplotlib.axis.XTick at 0x1f9a55d9850>,\n  <matplotlib.axis.XTick at 0x1f9a55dbfd0>,\n  <matplotlib.axis.XTick at 0x1f9a55de810>,\n  <matplotlib.axis.XTick at 0x1f9a55e4fd0>],\n [Text(1, 0, 'Jan'),\n  Text(32, 0, 'Feb'),\n  Text(60, 0, 'Mar'),\n  Text(91, 0, 'Apr'),\n  Text(121, 0, 'May'),\n  Text(152, 0, 'Jun'),\n  Text(182, 0, 'Jul'),\n  Text(213, 0, 'Aug'),\n  Text(244, 0, 'Sep'),\n  Text(274, 0, 'Oct'),\n  Text(305, 0, 'Nov'),\n  Text(335, 0, 'Dec')])"
     },
     "execution_count": 1,
     "metadata": {},
     "output_type": "execute_result"
    }
   ],
   "source": [
    "ds_1996 = xr.open_dataset(nc_file_1996)\n",
    "ds_1969 = xr.open_dataset(nc_file_1969)\n",
    "ds_2023 = xr.open_dataset(nc_file_2023)\n",
    "\n",
    "# Function to extract Nanjing temperature data\n",
    "def extract_nanjing_temp(ds):\n",
    "    # Nanjing coordinates: 32.06°N, 118.79°E\n",
    "    lat_idx = np.argmin(np.abs(ds.latitude.values - 32.06))\n",
    "    lon_idx = np.argmin(np.abs(ds.longitude.values - 118.79))\n",
    "    nanjing_temp = ds.t2m.isel(latitude=lat_idx, longitude=lon_idx)\n",
    "\n",
    "    # Convert to DataFrame and process\n",
    "    df = nanjing_temp.to_dataframe().reset_index()\n",
    "    df = df.set_index('valid_time')\n",
    "    df = df[['t2m']]\n",
    "    df.columns = ['temperature']\n",
    "    df['temperature'] = df['temperature'] - 273.15  # Kelvin to Celsius\n",
    "    return df\n",
    "\n",
    "# Extract data for all three years (1996, 1969, 2023)\n",
    "df_1996 = extract_nanjing_temp(ds_1996)\n",
    "df_1969 = extract_nanjing_temp(ds_1969)\n",
    "df_2023 = extract_nanjing_temp(ds_2023)\n",
    "\n",
    "# Add year column for visualization\n",
    "df_1996['year'] = 1996\n",
    "df_1969['year'] = 1969\n",
    "df_2023['year'] = 2023\n",
    "\n",
    "# Create a common time index (day of year)\n",
    "df_1996['day_of_year'] = df_1996.index.dayofyear\n",
    "df_1969['day_of_year'] = df_1969.index.dayofyear\n",
    "df_2023['day_of_year'] = df_2023.index.dayofyear\n",
    "\n",
    "# Plot all three years together\n",
    "plt.figure(figsize=(15, 6))\n",
    "\n",
    "# Plot temperature fluctuation for 1996 (blue)\n",
    "plt.plot(df_1996['day_of_year'], df_1996['temperature'], label='1996', color='blue', alpha=0.7)\n",
    "\n",
    "# Plot temperature fluctuation for 1969 (red)\n",
    "plt.plot(df_1969['day_of_year'], df_1969['temperature'], label='1969', color='red', alpha=0.7)\n",
    "\n",
    "# Plot temperature fluctuation for 2023 (green)\n",
    "plt.plot(df_2023['day_of_year'], df_2023['temperature'], label='2023', color='green', alpha=0.7)\n",
    "\n",
    "# Adding titles and labels\n",
    "plt.title('Nanjing Temperature Comparison: 1969, 1996, and 2023')\n",
    "plt.xlabel('Day of Year')\n",
    "plt.ylabel('Temperature (°C)')\n",
    "plt.legend()\n",
    "plt.grid(True)\n",
    "\n",
    "# Add month labels to x-axis\n",
    "months = ['Jan', 'Feb', 'Mar', 'Apr', 'May', 'Jun',\n",
    "          'Jul', 'Aug', 'Sep', 'Oct', 'Nov', 'Dec']\n",
    "month_starts = [1, 32, 60, 91, 121, 152, 182, 213, 244, 274, 305, 335]\n",
    "\n",
    "# Set x-ticks to show the start of each month\n",
    "plt.xticks(month_starts, months, rotation=45)"
   ],
   "metadata": {
    "collapsed": false
   }
  },
  {
   "cell_type": "code",
   "execution_count": 2,
   "outputs": [],
   "source": [
    "# Adjust the x-axis tick intervals for better spacing\n",
    "from matplotlib.ticker import MaxNLocator\n",
    "\n",
    "# Set x-axis locator to have fewer ticks and wider spacing (e.g., every 30 days or based on data range)\n",
    "plt.gca().xaxis.set_major_locator(MaxNLocator(integer=True, prune='both'))\n",
    "\n",
    "# Ensure the plot layout is tight and labels are displayed properly\n",
    "plt.tight_layout()\n",
    "\n",
    "# Show the plot using Matplotlib\n",
    "plt.show()"
   ],
   "metadata": {
    "collapsed": false
   }
  },
  {
   "cell_type": "code",
   "execution_count": null,
   "outputs": [],
   "source": [
    "# Now proceed with LSTM modeling for one of the years (1996 in this case)\n",
    "# We'll use df_1996 for the LSTM model as in the original code\n",
    "\n",
    "# Preprocess the data: normalize using MinMaxScaler\n",
    "scaler = MinMaxScaler(feature_range=(0, 1))\n",
    "scaled_data = scaler.fit_transform(df_1996[['temperature']])\n",
    "\n",
    "# Function to create sequences for time series prediction\n",
    "def create_sequences(data, seq_length):\n",
    "    X, y = [], []\n",
    "    for i in range(len(data) - seq_length):\n",
    "        X.append(data[i:(i + seq_length), 0])\n",
    "        y.append(data[i + seq_length, 0])\n",
    "    return np.array(X), np.array(y)\n",
    "\n",
    "# Create sequences with length 3 for prediction\n",
    "seq_length = 3  # Use 3 time steps to predict the next one\n",
    "X, y = create_sequences(scaled_data, seq_length)\n",
    "\n",
    "# Split the data into training and testing sets\n",
    "# Use the last 10 days (240 hours) as the test set\n",
    "train_size = len(X) - 240\n",
    "X_train, X_test = X[:train_size], X[train_size:]\n",
    "y_train, y_test = y[:train_size], y[train_size:]\n",
    "\n",
    "# Convert numpy arrays to PyTorch tensors\n",
    "X_train = torch.FloatTensor(X_train)\n",
    "y_train = torch.FloatTensor(y_train)\n",
    "X_test = torch.FloatTensor(X_test)\n",
    "y_test = torch.FloatTensor(y_test)\n",
    "\n",
    "# Create DataLoader for batch processing during training\n",
    "train_dataset = TensorDataset(X_train, y_train)\n",
    "train_loader = DataLoader(train_dataset, batch_size=16, shuffle=True)\n",
    "\n",
    "# Define the LSTM model (same as before)\n",
    "class LSTM(nn.Module):\n",
    "    def __init__(self, input_size=1, hidden_size=50, num_layers=1, output_size=1):\n",
    "        super(LSTM, self).__init__()\n",
    "        self.hidden_size = hidden_size\n",
    "        self.num_layers = num_layers\n",
    "        self.lstm = nn.LSTM(input_size, hidden_size, num_layers, batch_first=True)\n",
    "        self.fc = nn.Linear(hidden_size, output_size)\n",
    "\n",
    "    def forward(self, x):\n",
    "        h0 = torch.zeros(self.num_layers, x.size(0), self.hidden_size).to(x.device)\n",
    "        c0 = torch.zeros(self.num_layers, x.size(0), self.hidden_size).to(x.device)\n",
    "        out, _ = self.lstm(x, (h0.detach(), c0.detach()))\n",
    "        out = self.fc(out[:, -1, :])\n",
    "        return out\n",
    "\n",
    "# Initialize the model, loss function, and optimizer\n",
    "model = LSTM(input_size=1, hidden_size=50, num_layers=1, output_size=1)\n",
    "criterion = nn.MSELoss()\n",
    "optimizer = torch.optim.Adam(model.parameters(), lr=0.001)\n",
    "\n",
    "# Train the model\n",
    "num_epochs = 100\n",
    "for epoch in range(num_epochs):\n",
    "    model.train()\n",
    "    for batch_X, batch_y in train_loader:\n",
    "        outputs = model(batch_X.unsqueeze(2))\n",
    "        loss = criterion(outputs, batch_y.unsqueeze(1))\n",
    "        optimizer.zero_grad()\n",
    "        loss.backward()\n",
    "        optimizer.step()\n",
    "    print(f'Epoch [{epoch + 1}/{num_epochs}], Loss: {loss.item():.4f}')\n",
    "\n",
    "# Make predictions\n",
    "model.eval()\n",
    "with torch.no_grad():\n",
    "    train_predict = model(X_train.unsqueeze(2)).squeeze().numpy()\n",
    "    test_predict = model(X_test.unsqueeze(2)).squeeze().numpy()\n",
    "\n",
    "# Inverse transform the predictions and actual values\n",
    "train_predict = scaler.inverse_transform(train_predict.reshape(-1, 1))\n",
    "y_train = scaler.inverse_transform(y_train.numpy().reshape(-1, 1))\n",
    "test_predict = scaler.inverse_transform(test_predict.reshape(-1, 1))\n",
    "y_test = scaler.inverse_transform(y_test.numpy().reshape(-1, 1))\n",
    "\n",
    "# Calculate Root Mean Squared Error (RMSE)\n",
    "train_rmse = np.sqrt(np.mean((train_predict - y_train) ** 2))\n",
    "test_rmse = np.sqrt(np.mean((test_predict - y_test) ** 2))\n",
    "print(f'Train RMSE: {train_rmse:.2f}')\n",
    "print(f'Test RMSE: {test_rmse:.2f}')\n",
    "\n",
    "# Visualize the LSTM results for 1996\n",
    "plt.figure(figsize=(15, 6))\n",
    "plt.plot(df_1996.index[-240:], y_test, label='Actual')\n",
    "plt.plot(df_1996.index[-240:], test_predict, label='Predicted')\n",
    "plt.title('LSTM Model: Actual vs Predicted Temperature for Last 10 Days (1996)')\n",
    "plt.xlabel('Date')\n",
    "plt.ylabel('Temperature (°C)')\n",
    "plt.legend()\n",
    "plt.grid(True)\n",
    "plt.show()"
   ],
   "metadata": {
    "collapsed": false
   }
  }
 ],
 "metadata": {
  "kernelspec": {
   "display_name": "Python 3",
   "language": "python",
   "name": "python3"
  },
  "language_info": {
   "codemirror_mode": {
    "name": "ipython",
    "version": 2
   },
   "file_extension": ".py",
   "mimetype": "text/x-python",
   "name": "python",
   "nbconvert_exporter": "python",
   "pygments_lexer": "ipython2",
   "version": "2.7.6"
  }
 },
 "nbformat": 4,
 "nbformat_minor": 0
}
